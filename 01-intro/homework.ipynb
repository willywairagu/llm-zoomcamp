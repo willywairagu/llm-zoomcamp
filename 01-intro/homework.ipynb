{
 "cells": [
  {
   "cell_type": "code",
   "execution_count": 3,
   "metadata": {},
   "outputs": [],
   "source": [
    "import os\n",
    "import openai"
   ]
  },
  {
   "cell_type": "code",
   "execution_count": 2,
   "metadata": {},
   "outputs": [],
   "source": [
    "from openai import OpenAI"
   ]
  },
  {
   "cell_type": "code",
   "execution_count": 4,
   "metadata": {},
   "outputs": [],
   "source": [
    "client = OpenAI(api_key=os.getenv(\"OPENAI_API_KEY\"))"
   ]
  },
  {
   "cell_type": "code",
   "execution_count": 8,
   "metadata": {},
   "outputs": [],
   "source": [
    "response = client.chat.completions.create(\n",
    "    model=\"gpt-4o\",\n",
    "    messages=[\n",
    "        {\"role\": \"user\", \"content\": \"is it too late to try the course?\"}\n",
    "    ])"
   ]
  },
  {
   "cell_type": "code",
   "execution_count": 12,
   "metadata": {},
   "outputs": [
    {
     "data": {
      "text/plain": [
       "\"It's never too late to start a new course or to continue your education. The best time to start is now! Here are a few things to consider:\\n\\n1. **Check the Enrollment Period**: Make sure you are still within the enrollment deadlines. Some courses may have specific start dates and deadlines, while others may offer rolling admission.\\n \\n2. **Prerequisites and Preparation**: Ensure you meet any prerequisites or requisite background knowledge for the course. If you need a refresher, consider reviewing the material beforehand.\\n\\n3. **Time Commitment**: Assess your current schedule to determine if you can dedicate the necessary time for coursework, assignments, and study.\\n\\n4. **Resources**: Gather all the necessary materials, such as textbooks, software, and lecture notes, before you start.\\n\\n5. **Support System**: Reach out to the course instructor or advisor if you have any questions or need guidance on how to catch up if you're starting late.\\n\\nRemember, lifelong learning is valuable and beneficial, so taking the initiative to pursue a course, regardless of timing, is a positive step towards your growth and goals. Good luck!\""
      ]
     },
     "execution_count": 12,
     "metadata": {},
     "output_type": "execute_result"
    }
   ],
   "source": [
    "response.choices[0].message.content\n"
   ]
  },
  {
   "cell_type": "code",
   "execution_count": null,
   "metadata": {},
   "outputs": [],
   "source": []
  }
 ],
 "metadata": {
  "kernelspec": {
   "display_name": "Python 3 (ipykernel)",
   "language": "python",
   "name": "python3"
  },
  "language_info": {
   "codemirror_mode": {
    "name": "ipython",
    "version": 3
   },
   "file_extension": ".py",
   "mimetype": "text/x-python",
   "name": "python",
   "nbconvert_exporter": "python",
   "pygments_lexer": "ipython3",
   "version": "3.10.12"
  }
 },
 "nbformat": 4,
 "nbformat_minor": 2
}
